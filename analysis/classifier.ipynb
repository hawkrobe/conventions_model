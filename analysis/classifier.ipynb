{
 "cells": [
  {
   "cell_type": "code",
   "execution_count": 92,
   "metadata": {},
   "outputs": [],
   "source": [
    "import numpy as np\n",
    "import pandas as pd\n",
    "import seaborn as sns\n",
    "import matplotlib.pyplot as plt\n",
    "from sklearn.feature_extraction.text import CountVectorizer\n",
    "from sklearn.feature_extraction.text import TfidfTransformer\n",
    "from sklearn.linear_model import SGDClassifier\n",
    "from sklearn.pipeline import Pipeline\n",
    "from sklearn.metrics import roc_auc_score\n",
    "from sklearn.preprocessing import MultiLabelBinarizer"
   ]
  },
  {
   "cell_type": "code",
   "execution_count": 80,
   "metadata": {},
   "outputs": [],
   "source": [
    "d = (pd\n",
    "     .read_csv('../data/tangramsSequential.csv')\n",
    "     .query('correct == 1')\n",
    "     .groupby(['roundNum','gameid', 'intendedObj', 'occurrenceNum'])['contents']\n",
    "     .apply(' '.join)\n",
    "     .reset_index())"
   ]
  },
  {
   "cell_type": "code",
   "execution_count": 81,
   "metadata": {},
   "outputs": [
    {
     "data": {
      "text/html": [
       "<div>\n",
       "<style scoped>\n",
       "    .dataframe tbody tr th:only-of-type {\n",
       "        vertical-align: middle;\n",
       "    }\n",
       "\n",
       "    .dataframe tbody tr th {\n",
       "        vertical-align: top;\n",
       "    }\n",
       "\n",
       "    .dataframe thead th {\n",
       "        text-align: right;\n",
       "    }\n",
       "</style>\n",
       "<table border=\"1\" class=\"dataframe\">\n",
       "  <thead>\n",
       "    <tr style=\"text-align: right;\">\n",
       "      <th></th>\n",
       "      <th>roundNum</th>\n",
       "      <th>gameid</th>\n",
       "      <th>intendedObj</th>\n",
       "      <th>occurrenceNum</th>\n",
       "      <th>contents</th>\n",
       "    </tr>\n",
       "  </thead>\n",
       "  <tbody>\n",
       "    <tr>\n",
       "      <th>0</th>\n",
       "      <td>1</td>\n",
       "      <td>0057-414228f8-c268-40d6-9349-b35df4f080d9</td>\n",
       "      <td>B</td>\n",
       "      <td>1</td>\n",
       "      <td>Hi Hello Looking for a diamond at the top, tri...</td>\n",
       "    </tr>\n",
       "    <tr>\n",
       "      <th>1</th>\n",
       "      <td>1</td>\n",
       "      <td>0711-b03679d3-9904-4263-bd2f-8ec8e7a45af7</td>\n",
       "      <td>J</td>\n",
       "      <td>1</td>\n",
       "      <td>diamond on a self</td>\n",
       "    </tr>\n",
       "    <tr>\n",
       "      <th>2</th>\n",
       "      <td>1</td>\n",
       "      <td>0723-9b842133-a121-4b53-9c37-784e6023e022</td>\n",
       "      <td>I</td>\n",
       "      <td>1</td>\n",
       "      <td>hi there hey what am i looking for here? click...</td>\n",
       "    </tr>\n",
       "    <tr>\n",
       "      <th>3</th>\n",
       "      <td>1</td>\n",
       "      <td>1202-a64916b2-49d2-4ca4-bd76-cfd3e1ec3954</td>\n",
       "      <td>C</td>\n",
       "      <td>1</td>\n",
       "      <td>it looks like a person holding up two arms</td>\n",
       "    </tr>\n",
       "    <tr>\n",
       "      <th>4</th>\n",
       "      <td>1</td>\n",
       "      <td>1242-e6fcc1c9-ab33-44c7-b31c-4a391beb2b8c</td>\n",
       "      <td>L</td>\n",
       "      <td>1</td>\n",
       "      <td>Hello squatting and facing right</td>\n",
       "    </tr>\n",
       "  </tbody>\n",
       "</table>\n",
       "</div>"
      ],
      "text/plain": [
       "   roundNum                                     gameid intendedObj  \\\n",
       "0         1  0057-414228f8-c268-40d6-9349-b35df4f080d9           B   \n",
       "1         1  0711-b03679d3-9904-4263-bd2f-8ec8e7a45af7           J   \n",
       "2         1  0723-9b842133-a121-4b53-9c37-784e6023e022           I   \n",
       "3         1  1202-a64916b2-49d2-4ca4-bd76-cfd3e1ec3954           C   \n",
       "4         1  1242-e6fcc1c9-ab33-44c7-b31c-4a391beb2b8c           L   \n",
       "\n",
       "   occurrenceNum                                           contents  \n",
       "0              1  Hi Hello Looking for a diamond at the top, tri...  \n",
       "1              1                                  diamond on a self  \n",
       "2              1  hi there hey what am i looking for here? click...  \n",
       "3              1         it looks like a person holding up two arms  \n",
       "4              1                   Hello squatting and facing right  "
      ]
     },
     "execution_count": 81,
     "metadata": {},
     "output_type": "execute_result"
    }
   ],
   "source": [
    "d.head()"
   ]
  },
  {
   "cell_type": "code",
   "execution_count": 82,
   "metadata": {},
   "outputs": [],
   "source": [
    "text_clf = Pipeline([('vect', CountVectorizer()),\n",
    "                      ('tfidf', TfidfTransformer()),\n",
    "                      ('clf', SGDClassifier(loss='hinge', penalty='l2',\n",
    "                                            alpha=1e-3, random_state=42,\n",
    "                                            max_iter=5, tol=None)),\n",
    "])"
   ]
  },
  {
   "cell_type": "markdown",
   "metadata": {},
   "source": [
    "Let's train on all descriptions from one round and see how well we can perform task on other rounds"
   ]
  },
  {
   "cell_type": "code",
   "execution_count": 103,
   "metadata": {},
   "outputs": [],
   "source": [
    "train_num = 6\n",
    "test_num = 4\n",
    "output = np.zeros([6,6])\n",
    "mlb = MultiLabelBinarizer()\n",
    "for train_num in range(1,7):\n",
    "    for test_num in range(1,7) :\n",
    "        text_clf.fit(d[d['occurrenceNum']==train_num]['contents'], d[d['occurrenceNum']==train_num]['intendedObj'])\n",
    "        predicted = text_clf.decision_function(d[d['occurrenceNum']==test_num]['contents'])\n",
    "        ytrue = mlb.fit_transform(d[d['occurrenceNum']==test_num]['intendedObj'])\n",
    "        output[train_num-1, test_num-1] = roc_auc_score(ytrue, predicted, average='micro')"
   ]
  },
  {
   "cell_type": "code",
   "execution_count": 104,
   "metadata": {},
   "outputs": [
    {
     "data": {
      "text/plain": [
       "Text(33,0.5,'Train')"
      ]
     },
     "execution_count": 104,
     "metadata": {},
     "output_type": "execute_result"
    },
    {
     "data": {
      "image/png": "[encoded data removed]",
      "text/plain": [
       "<Figure size 432x288 with 2 Axes>"
      ]
     },
     "metadata": {},
     "output_type": "display_data"
    }
   ],
   "source": [
    "fig = sns.heatmap(output)\n",
    "plt.xlabel(\"Test\")\n",
    "plt.ylabel(\"Train\")"
   ]
  },
  {
   "cell_type": "code",
   "execution_count": 105,
   "metadata": {},
   "outputs": [
    {
     "data": {
      "text/plain": [
       "array([[0.99652979, 0.94142964, 0.92478071, 0.91481817, 0.90826236,\n",
       "        0.90319342],\n",
       "       [0.94880841, 0.99345461, 0.94824657, 0.93732609, 0.93254751,\n",
       "        0.92406401],\n",
       "       [0.94027865, 0.95033938, 0.99124016, 0.95204303, 0.94850084,\n",
       "        0.93852797],\n",
       "       [0.93397666, 0.94326888, 0.95763382, 0.98638893, 0.95680715,\n",
       "        0.94685076],\n",
       "       [0.93476648, 0.94345337, 0.95319147, 0.95930708, 0.9810795 ,\n",
       "        0.95026786],\n",
       "       [0.91513341, 0.93075817, 0.94535855, 0.95401674, 0.95458569,\n",
       "        0.98337466]])"
      ]
     },
     "execution_count": 105,
     "metadata": {},
     "output_type": "execute_result"
    }
   ],
   "source": [
    "output"
   ]
  },
  {
   "cell_type": "markdown",
   "metadata": {},
   "source": [
    "TODO:\n",
    "* hold out participants within round (e.g. another way of looking at arbitrariness analysis: how well can we do the task on novel person A given only data from other speakers)\n",
    "* instead of svm, train pytorch bag of words embedding initialized with word2vec... \n",
    "* then check whether you predict person A's round 6 better or worse after training on their rounds 1-5."
   ]
  }
 ],
 "metadata": {
  "kernelspec": {
   "display_name": "Python 3",
   "language": "python",
   "name": "python3"
  },
  "language_info": {
   "codemirror_mode": {
    "name": "ipython",
    "version": 3
   },
   "file_extension": ".py",
   "mimetype": "text/x-python",
   "name": "python",
   "nbconvert_exporter": "python",
   "pygments_lexer": "ipython3",
   "version": "3.6.5"
  }
 },
 "nbformat": 4,
 "nbformat_minor": 2
}
